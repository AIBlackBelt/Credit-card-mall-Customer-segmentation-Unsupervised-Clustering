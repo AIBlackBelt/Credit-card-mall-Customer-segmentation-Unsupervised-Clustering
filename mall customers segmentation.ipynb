{
 "cells": [
  {
   "cell_type": "markdown",
   "id": "8cf49ea8",
   "metadata": {
    "papermill": {
     "duration": 0.019523,
     "end_time": "2021-10-08T15:38:24.293992",
     "exception": false,
     "start_time": "2021-10-08T15:38:24.274469",
     "status": "completed"
    },
    "tags": []
   },
   "source": [
    "**INTRODUCTION :**\n",
    "\n",
    "This notebook is about clustering the customers using an unsupervised learning technique which is OPTICS, (ordering points to identify the clustering structure), in other words we detect clusters based on density, a groups of data points that are too dense with data are considered clusters. In our case of application, we will detect customers that are sufficiently similar to each others, these segments of customers should be dense enough to be considered as a single cluster. Resource for better understanding : https://www.geeksforgeeks.org/ml-optics-clustering-explanation/"
   ]
  },
  {
   "cell_type": "markdown",
   "id": "3a510caf",
   "metadata": {
    "papermill": {
     "duration": 0.017783,
     "end_time": "2021-10-08T15:38:24.332092",
     "exception": false,
     "start_time": "2021-10-08T15:38:24.314309",
     "status": "completed"
    },
    "tags": []
   },
   "source": [
    "First, we import all the necessary data, packages."
   ]
  },
  {
   "cell_type": "code",
   "execution_count": 1,
   "id": "b22fecf8",
   "metadata": {
    "_cell_guid": "b1076dfc-b9ad-4769-8c92-a6c4dae69d19",
    "_uuid": "8f2839f25d086af736a60e9eeb907d3b93b6e0e5",
    "execution": {
     "iopub.execute_input": "2021-10-08T15:38:24.372064Z",
     "iopub.status.busy": "2021-10-08T15:38:24.371020Z",
     "iopub.status.idle": "2021-10-08T15:38:25.601845Z",
     "shell.execute_reply": "2021-10-08T15:38:25.601279Z",
     "shell.execute_reply.started": "2021-10-08T14:32:59.2784Z"
    },
    "papermill": {
     "duration": 1.251822,
     "end_time": "2021-10-08T15:38:25.602006",
     "exception": false,
     "start_time": "2021-10-08T15:38:24.350184",
     "status": "completed"
    },
    "tags": []
   },
   "outputs": [
    {
     "name": "stdout",
     "output_type": "stream",
     "text": [
      "/kaggle/input/customer-segmentation-tutorial-in-python/Mall_Customers.csv\n"
     ]
    }
   ],
   "source": [
    "# This Python 3 environment comes with many helpful analytics libraries installed\n",
    "# It is defined by the kaggle/python Docker image: https://github.com/kaggle/docker-python\n",
    "# For example, here's several helpful packages to load\n",
    "\n",
    "import numpy as np # linear algebra\n",
    "import pandas as pd # data processing, CSV file I/O (e.g. pd.read_csv)\n",
    "from sklearn.metrics import silhouette_score\n",
    "from sklearn.cluster import OPTICS\n",
    "import numpy as np\n",
    "import seaborn as sns\n",
    "import matplotlib.pyplot as plt\n",
    "\n",
    "# Input data files are available in the read-only \"../input/\" directory\n",
    "# For example, running this (by clicking run or pressing Shift+Enter) will list all files under the input directory\n",
    "import os\n",
    "for dirname, _, filenames in os.walk('/kaggle/input'):\n",
    "    for filename in filenames:\n",
    "        print(os.path.join(dirname, filename))\n",
    "\n",
    "df = pd.read_csv(\"../input/customer-segmentation-tutorial-in-python/Mall_Customers.csv\")\n",
    "\n",
    "\n",
    "# You can write up to 20GB to the current directory (/kaggle/working/) that gets preserved as output when you create a version using \"Save & Run All\" \n",
    "# You can also write temporary files to /kaggle/temp/, but they won't be saved outside of the current session"
   ]
  },
  {
   "cell_type": "code",
   "execution_count": 2,
   "id": "8d9a8e8e",
   "metadata": {
    "execution": {
     "iopub.execute_input": "2021-10-08T15:38:25.642915Z",
     "iopub.status.busy": "2021-10-08T15:38:25.641975Z",
     "iopub.status.idle": "2021-10-08T15:38:25.656703Z",
     "shell.execute_reply": "2021-10-08T15:38:25.657141Z",
     "shell.execute_reply.started": "2021-10-08T14:30:14.3967Z"
    },
    "papermill": {
     "duration": 0.036623,
     "end_time": "2021-10-08T15:38:25.657304",
     "exception": false,
     "start_time": "2021-10-08T15:38:25.620681",
     "status": "completed"
    },
    "tags": []
   },
   "outputs": [
    {
     "name": "stdout",
     "output_type": "stream",
     "text": [
      "   CustomerID  Gender  Age  Annual Income (k$)  Spending Score (1-100)\n",
      "0           1    Male   19                  15                      39\n",
      "1           2    Male   21                  15                      81\n",
      "2           3  Female   20                  16                       6\n",
      "----------\n",
      "Shape:  (200, 5)\n",
      "----------\n",
      "CustomerID                 int64\n",
      "Gender                    object\n",
      "Age                        int64\n",
      "Annual Income (k$)         int64\n",
      "Spending Score (1-100)     int64\n",
      "dtype: object\n",
      "---------- \n",
      "CustomerID                0\n",
      "Gender                    0\n",
      "Age                       0\n",
      "Annual Income (k$)        0\n",
      "Spending Score (1-100)    0\n",
      "dtype: int64\n"
     ]
    }
   ],
   "source": [
    "print(df.head(3))\n",
    "print('----------')\n",
    "print('Shape: ',df.shape)\n",
    "print('----------')\n",
    "print(df.dtypes)\n",
    "print('---------- ')\n",
    "print(df.isnull().sum())"
   ]
  },
  {
   "cell_type": "markdown",
   "id": "e60366a2",
   "metadata": {
    "papermill": {
     "duration": 0.019682,
     "end_time": "2021-10-08T15:38:25.695503",
     "exception": false,
     "start_time": "2021-10-08T15:38:25.675821",
     "status": "completed"
    },
    "tags": []
   },
   "source": [
    "We encode the \"Gender\" boolean variable using two digits ( 1 for \"Male\", 0 for \"Female\" ), and delete the first column since it doesn't help the clustering process."
   ]
  },
  {
   "cell_type": "code",
   "execution_count": 3,
   "id": "44c8b4aa",
   "metadata": {
    "execution": {
     "iopub.execute_input": "2021-10-08T15:38:25.737293Z",
     "iopub.status.busy": "2021-10-08T15:38:25.736701Z",
     "iopub.status.idle": "2021-10-08T15:38:25.806478Z",
     "shell.execute_reply": "2021-10-08T15:38:25.805898Z",
     "shell.execute_reply.started": "2021-10-08T14:33:04.145117Z"
    },
    "papermill": {
     "duration": 0.091126,
     "end_time": "2021-10-08T15:38:25.806619",
     "exception": false,
     "start_time": "2021-10-08T15:38:25.715493",
     "status": "completed"
    },
    "tags": []
   },
   "outputs": [
    {
     "name": "stderr",
     "output_type": "stream",
     "text": [
      "/opt/conda/lib/python3.7/site-packages/ipykernel_launcher.py:3: SettingWithCopyWarning: \n",
      "A value is trying to be set on a copy of a slice from a DataFrame\n",
      "\n",
      "See the caveats in the documentation: https://pandas.pydata.org/pandas-docs/stable/user_guide/indexing.html#returning-a-view-versus-a-copy\n",
      "  This is separate from the ipykernel package so we can avoid doing imports until\n",
      "/opt/conda/lib/python3.7/site-packages/ipykernel_launcher.py:5: SettingWithCopyWarning: \n",
      "A value is trying to be set on a copy of a slice from a DataFrame\n",
      "\n",
      "See the caveats in the documentation: https://pandas.pydata.org/pandas-docs/stable/user_guide/indexing.html#returning-a-view-versus-a-copy\n",
      "  \"\"\"\n"
     ]
    }
   ],
   "source": [
    "for k in range(0,200):\n",
    "   if df[\"Gender\"][k] == \"Male\":\n",
    "       df[\"Gender\"][k] = 1\n",
    "   else :\n",
    "       df[\"Gender\"][k] = 0\n",
    "df['Gender'] = df['Gender'].astype('int')\n",
    "del df[\"CustomerID\"]\n"
   ]
  },
  {
   "cell_type": "markdown",
   "id": "8183d33b",
   "metadata": {
    "papermill": {
     "duration": 0.018668,
     "end_time": "2021-10-08T15:38:25.844170",
     "exception": false,
     "start_time": "2021-10-08T15:38:25.825502",
     "status": "completed"
    },
    "tags": []
   },
   "source": [
    "There are very small signs of correlations."
   ]
  },
  {
   "cell_type": "code",
   "execution_count": 4,
   "id": "213a17a4",
   "metadata": {
    "execution": {
     "iopub.execute_input": "2021-10-08T15:38:25.892633Z",
     "iopub.status.busy": "2021-10-08T15:38:25.891953Z",
     "iopub.status.idle": "2021-10-08T15:38:25.894476Z",
     "shell.execute_reply": "2021-10-08T15:38:25.894928Z",
     "shell.execute_reply.started": "2021-10-08T14:30:31.77126Z"
    },
    "papermill": {
     "duration": 0.031895,
     "end_time": "2021-10-08T15:38:25.895087",
     "exception": false,
     "start_time": "2021-10-08T15:38:25.863192",
     "status": "completed"
    },
    "tags": []
   },
   "outputs": [
    {
     "name": "stdout",
     "output_type": "stream",
     "text": [
      "                          Gender       Age  Annual Income (k$)  \\\n",
      "Gender                  1.000000  0.060867            0.056410   \n",
      "Age                     0.060867  1.000000           -0.012398   \n",
      "Annual Income (k$)      0.056410 -0.012398            1.000000   \n",
      "Spending Score (1-100) -0.058109 -0.327227            0.009903   \n",
      "\n",
      "                        Spending Score (1-100)  \n",
      "Gender                               -0.058109  \n",
      "Age                                  -0.327227  \n",
      "Annual Income (k$)                    0.009903  \n",
      "Spending Score (1-100)                1.000000  \n"
     ]
    }
   ],
   "source": [
    "print(df.corr())"
   ]
  },
  {
   "cell_type": "markdown",
   "id": "f6657705",
   "metadata": {
    "papermill": {
     "duration": 0.019657,
     "end_time": "2021-10-08T15:38:25.934248",
     "exception": false,
     "start_time": "2021-10-08T15:38:25.914591",
     "status": "completed"
    },
    "tags": []
   },
   "source": [
    "The Annual income values are dispersed within the range [20 k$,120 k$], 50% of the costumers have an annual income lower than 60 k.\n",
    "25 % of the customer have an annual income greater than 80 k$"
   ]
  },
  {
   "cell_type": "code",
   "execution_count": 5,
   "id": "91fc493e",
   "metadata": {
    "execution": {
     "iopub.execute_input": "2021-10-08T15:38:25.992685Z",
     "iopub.status.busy": "2021-10-08T15:38:25.976004Z",
     "iopub.status.idle": "2021-10-08T15:38:26.239388Z",
     "shell.execute_reply": "2021-10-08T15:38:26.238911Z",
     "shell.execute_reply.started": "2021-10-08T10:46:23.32129Z"
    },
    "papermill": {
     "duration": 0.286067,
     "end_time": "2021-10-08T15:38:26.239529",
     "exception": false,
     "start_time": "2021-10-08T15:38:25.953462",
     "status": "completed"
    },
    "tags": []
   },
   "outputs": [
    {
     "data": {
      "text/plain": [
       "count    200.000000\n",
       "mean      60.560000\n",
       "std       26.264721\n",
       "min       15.000000\n",
       "25%       41.500000\n",
       "50%       61.500000\n",
       "75%       78.000000\n",
       "max      137.000000\n",
       "Name: Annual Income (k$), dtype: float64"
      ]
     },
     "execution_count": 5,
     "metadata": {},
     "output_type": "execute_result"
    },
    {
     "data": {
      "image/png": "[encoded data removed]",
      "text/plain": [
       "<Figure size 432x288 with 1 Axes>"
      ]
     },
     "metadata": {},
     "output_type": "display_data"
    }
   ],
   "source": [
    "import seaborn as sns \n",
    "sns.set_theme(style=\"whitegrid\")\n",
    "ax = sns.boxplot(x=df[\"Annual Income (k$)\"])\n",
    "df[\"Annual Income (k$)\"].describe()"
   ]
  },
  {
   "cell_type": "markdown",
   "id": "cf8e141d",
   "metadata": {
    "papermill": {
     "duration": 0.01986,
     "end_time": "2021-10-08T15:38:26.279487",
     "exception": false,
     "start_time": "2021-10-08T15:38:26.259627",
     "status": "completed"
    },
    "tags": []
   },
   "source": [
    "The spending score values lie within the range [1,100]. It's some sort of metric that tells you how profitable a customer is. The higher it is, the lucrative the costumer is. "
   ]
  },
  {
   "cell_type": "code",
   "execution_count": 6,
   "id": "d8ed29bb",
   "metadata": {
    "execution": {
     "iopub.execute_input": "2021-10-08T15:38:26.322690Z",
     "iopub.status.busy": "2021-10-08T15:38:26.322133Z",
     "iopub.status.idle": "2021-10-08T15:38:26.547117Z",
     "shell.execute_reply": "2021-10-08T15:38:26.546647Z",
     "shell.execute_reply.started": "2021-10-08T10:50:15.355896Z"
    },
    "papermill": {
     "duration": 0.247703,
     "end_time": "2021-10-08T15:38:26.547257",
     "exception": false,
     "start_time": "2021-10-08T15:38:26.299554",
     "status": "completed"
    },
    "tags": []
   },
   "outputs": [
    {
     "name": "stdout",
     "output_type": "stream",
     "text": [
      "count    200.000000\n",
      "mean      50.200000\n",
      "std       25.823522\n",
      "min        1.000000\n",
      "25%       34.750000\n",
      "50%       50.000000\n",
      "75%       73.000000\n",
      "max       99.000000\n",
      "Name: Spending Score (1-100), dtype: float64\n"
     ]
    },
    {
     "data": {
      "image/png": "[encoded data removed]",
      "text/plain": [
       "<Figure size 432x288 with 1 Axes>"
      ]
     },
     "metadata": {},
     "output_type": "display_data"
    }
   ],
   "source": [
    "zx = sns.boxplot(x=df[\"Spending Score (1-100)\"])\n",
    "print(df[\"Spending Score (1-100)\"].describe())"
   ]
  },
  {
   "cell_type": "markdown",
   "id": "cc10c9af",
   "metadata": {
    "papermill": {
     "duration": 0.020588,
     "end_time": "2021-10-08T15:38:26.588634",
     "exception": false,
     "start_time": "2021-10-08T15:38:26.568046",
     "status": "completed"
    },
    "tags": []
   },
   "source": [
    "50% of the costumers age are below 36 years, which insinuate that the younger generation are most likely to convert to clients. Therefore we will likely target this age range"
   ]
  },
  {
   "cell_type": "code",
   "execution_count": 7,
   "id": "20b31f1c",
   "metadata": {
    "execution": {
     "iopub.execute_input": "2021-10-08T15:38:26.633490Z",
     "iopub.status.busy": "2021-10-08T15:38:26.632920Z",
     "iopub.status.idle": "2021-10-08T15:38:26.962317Z",
     "shell.execute_reply": "2021-10-08T15:38:26.961284Z",
     "shell.execute_reply.started": "2021-10-08T10:53:30.732678Z"
    },
    "papermill": {
     "duration": 0.352972,
     "end_time": "2021-10-08T15:38:26.962509",
     "exception": false,
     "start_time": "2021-10-08T15:38:26.609537",
     "status": "completed"
    },
    "tags": []
   },
   "outputs": [
    {
     "name": "stdout",
     "output_type": "stream",
     "text": [
      "count    200.000000\n",
      "mean      38.850000\n",
      "std       13.969007\n",
      "min       18.000000\n",
      "25%       28.750000\n",
      "50%       36.000000\n",
      "75%       49.000000\n",
      "max       70.000000\n",
      "Name: Age, dtype: float64\n"
     ]
    },
    {
     "data": {
      "image/png": "[encoded data removed]",
      "text/plain": [
       "<Figure size 432x288 with 1 Axes>"
      ]
     },
     "metadata": {},
     "output_type": "display_data"
    }
   ],
   "source": [
    "zx = sns.boxplot(x=df[\"Age\"])\n",
    "print(df[\"Age\"].describe())"
   ]
  },
  {
   "cell_type": "markdown",
   "id": "b98c5962",
   "metadata": {
    "papermill": {
     "duration": 0.021166,
     "end_time": "2021-10-08T15:38:27.006435",
     "exception": false,
     "start_time": "2021-10-08T15:38:26.985269",
     "status": "completed"
    },
    "tags": []
   },
   "source": [
    "The distribution of Male/Female among customers"
   ]
  },
  {
   "cell_type": "code",
   "execution_count": 8,
   "id": "11649aa0",
   "metadata": {
    "execution": {
     "iopub.execute_input": "2021-10-08T15:38:27.054950Z",
     "iopub.status.busy": "2021-10-08T15:38:27.054278Z",
     "iopub.status.idle": "2021-10-08T15:38:27.293128Z",
     "shell.execute_reply": "2021-10-08T15:38:27.292639Z",
     "shell.execute_reply.started": "2021-10-08T12:53:56.336482Z"
    },
    "papermill": {
     "duration": 0.265254,
     "end_time": "2021-10-08T15:38:27.293258",
     "exception": false,
     "start_time": "2021-10-08T15:38:27.028004",
     "status": "completed"
    },
    "tags": []
   },
   "outputs": [
    {
     "data": {
      "image/png": "[encoded data removed]",
      "text/plain": [
       "<Figure size 432x288 with 1 Axes>"
      ]
     },
     "metadata": {},
     "output_type": "display_data"
    }
   ],
   "source": [
    "import matplotlib.pyplot as plt\n",
    "df[\"Gender\"].hist()\n",
    "plt.show()"
   ]
  },
  {
   "cell_type": "markdown",
   "id": "60e1e63d",
   "metadata": {
    "papermill": {
     "duration": 0.021605,
     "end_time": "2021-10-08T15:38:27.337039",
     "exception": false,
     "start_time": "2021-10-08T15:38:27.315434",
     "status": "completed"
    },
    "tags": []
   },
   "source": [
    "The OPTICS algorithms expects two paramters : \n",
    "\n",
    "maxeps : a distance that will be used to detect clusters, the algorithm will check each data point maxeps-neighbors, and if there's enough point in this neighborhood, a cluster will be formed\n",
    "minpts : the number of points that should in the maxeps-neighborhood, in order to consider the said points as a cluster.\n",
    "\n",
    "After multiple trials, we decided to run the OPTICS algorithm on a range of minpts values [10,50], we fixed the maxeps parameter.\n",
    "For each configuration, we calculate the silhouette coefficient. We will get 40 different clustering result because we tested with different values of minpts. First we apply this approach on all the feature. We will skip some minpts values since it returns only one cluster which isn't really helpful.\n",
    "\n",
    "The configuration that gave the highest silhouette coefficient is the one indexed with 18,\n",
    " mintpts = 23\n",
    "silhoutte coefficient = 0.21\n"
   ]
  },
  {
   "cell_type": "code",
   "execution_count": 9,
   "id": "86827c39",
   "metadata": {
    "execution": {
     "iopub.execute_input": "2021-10-08T15:38:27.394713Z",
     "iopub.status.busy": "2021-10-08T15:38:27.393702Z",
     "iopub.status.idle": "2021-10-08T15:38:33.897692Z",
     "shell.execute_reply": "2021-10-08T15:38:33.899072Z",
     "shell.execute_reply.started": "2021-10-08T14:33:11.23776Z"
    },
    "papermill": {
     "duration": 6.540309,
     "end_time": "2021-10-08T15:38:33.899384",
     "exception": false,
     "start_time": "2021-10-08T15:38:27.359075",
     "status": "completed"
    },
    "tags": []
   },
   "outputs": [
    {
     "name": "stdout",
     "output_type": "stream",
     "text": [
      "OPTICS(max_eps=300, min_samples=10)\n",
      "OPTICS(max_eps=300, min_samples=11)\n",
      "OPTICS(max_eps=300, min_samples=12)\n",
      "OPTICS(max_eps=300, min_samples=13)\n",
      "OPTICS(max_eps=300, min_samples=14)\n",
      "OPTICS(max_eps=300, min_samples=15)\n",
      "OPTICS(max_eps=300, min_samples=16)\n",
      "OPTICS(max_eps=300, min_samples=17)\n",
      "OPTICS(max_eps=300, min_samples=18)\n",
      "OPTICS(max_eps=300, min_samples=19)\n",
      "OPTICS(max_eps=300, min_samples=20)\n",
      "OPTICS(max_eps=300, min_samples=21)\n",
      "OPTICS(max_eps=300, min_samples=22)\n",
      "OPTICS(max_eps=300, min_samples=23)\n",
      "OPTICS(max_eps=300, min_samples=24)\n",
      "OPTICS(max_eps=300, min_samples=25)\n",
      "OPTICS(max_eps=300, min_samples=26)\n",
      "OPTICS(max_eps=300, min_samples=28)\n",
      "OPTICS(max_eps=300, min_samples=29)\n",
      "OPTICS(max_eps=300, min_samples=30)\n",
      "OPTICS(max_eps=300, min_samples=33)\n",
      "OPTICS(max_eps=300, min_samples=34)\n",
      "OPTICS(max_eps=300, min_samples=35)\n",
      "OPTICS(max_eps=300, min_samples=36)\n",
      "OPTICS(max_eps=300, min_samples=37)\n",
      "OPTICS(max_eps=300, min_samples=38)\n",
      "OPTICS(max_eps=300, min_samples=39)\n",
      "OPTICS(max_eps=300, min_samples=42)\n",
      "OPTICS(max_eps=300, min_samples=43)\n",
      "OPTICS(max_eps=300, min_samples=44)\n",
      "OPTICS(max_eps=300, min_samples=45)\n",
      "OPTICS(max_eps=300, min_samples=46)\n",
      "OPTICS(max_eps=300, min_samples=47)\n",
      "OPTICS(max_eps=300, min_samples=49)\n",
      "OPTICS(max_eps=300, min_samples=50)\n",
      "18\n",
      "optimal minpts value : 28\n",
      "optimal silhouette coefficient value : 0.2161560150579193\n"
     ]
    }
   ],
   "source": [
    "X = np.array(df[[\"Spending Score (1-100)\",\"Annual Income (k$)\",\"Gender\",\"Age\"]])\n",
    "\n",
    "minpts = [i for i in range(10,51)]\n",
    "\n",
    "maxeps = [300]*41\n",
    "\n",
    "sil = [0]*41\n",
    "\n",
    "for k in range(0,len(sil)):\n",
    "    if k == 17 or k == 21 or k == 30 or k == 31 or k == 38 or k == 22:\n",
    "        continue\n",
    "    clustering = OPTICS(min_samples=minpts[k],max_eps=maxeps[k]).fit(X)\n",
    "    print(clustering)\n",
    "    sil[k] = silhouette_score(X,clustering.labels_)\n",
    "\n",
    "  \n",
    "maximum = max(sil)\n",
    "index = sil.index(maximum)\n",
    "print(index)\n",
    "print(\"optimal minpts value :\",minpts[index])\n",
    "print(\"optimal silhouette coefficient value :\",sil[index])\n"
   ]
  },
  {
   "cell_type": "markdown",
   "id": "a9dfe229",
   "metadata": {
    "papermill": {
     "duration": 0.05246,
     "end_time": "2021-10-08T15:38:34.004664",
     "exception": false,
     "start_time": "2021-10-08T15:38:33.952204",
     "status": "completed"
    },
    "tags": []
   },
   "source": [
    "Now we try the same using only : Spending score, Annual Income, Gender.\n",
    "The configuration that gave the highest silhouette coefficient is the one indexed with 13,\n",
    "mintpts = 23\n",
    "silhoutte coefficient = 0.26365132840366795\n",
    "The silhouette coefficient improved a little bit\n",
    "\n"
   ]
  },
  {
   "cell_type": "code",
   "execution_count": 10,
   "id": "b8f3a087",
   "metadata": {
    "execution": {
     "iopub.execute_input": "2021-10-08T15:38:34.067688Z",
     "iopub.status.busy": "2021-10-08T15:38:34.067065Z",
     "iopub.status.idle": "2021-10-08T15:38:41.653848Z",
     "shell.execute_reply": "2021-10-08T15:38:41.652910Z",
     "shell.execute_reply.started": "2021-10-08T14:33:21.650945Z"
    },
    "papermill": {
     "duration": 7.621962,
     "end_time": "2021-10-08T15:38:41.654014",
     "exception": false,
     "start_time": "2021-10-08T15:38:34.032052",
     "status": "completed"
    },
    "tags": []
   },
   "outputs": [
    {
     "name": "stdout",
     "output_type": "stream",
     "text": [
      "OPTICS(max_eps=300, min_samples=10)\n",
      "OPTICS(max_eps=300, min_samples=11)\n",
      "OPTICS(max_eps=300, min_samples=12)\n",
      "OPTICS(max_eps=300, min_samples=13)\n",
      "OPTICS(max_eps=300, min_samples=14)\n",
      "OPTICS(max_eps=300, min_samples=15)\n",
      "OPTICS(max_eps=300, min_samples=16)\n",
      "OPTICS(max_eps=300, min_samples=17)\n",
      "OPTICS(max_eps=300, min_samples=18)\n",
      "OPTICS(max_eps=300, min_samples=19)\n",
      "OPTICS(max_eps=300, min_samples=20)\n",
      "OPTICS(max_eps=300, min_samples=21)\n",
      "OPTICS(max_eps=300, min_samples=22)\n",
      "OPTICS(max_eps=300, min_samples=23)\n",
      "OPTICS(max_eps=300, min_samples=24)\n",
      "OPTICS(max_eps=300, min_samples=25)\n",
      "OPTICS(max_eps=300, min_samples=26)\n",
      "OPTICS(max_eps=300, min_samples=27)\n",
      "OPTICS(max_eps=300, min_samples=28)\n",
      "OPTICS(max_eps=300, min_samples=29)\n",
      "OPTICS(max_eps=300, min_samples=30)\n",
      "OPTICS(max_eps=300, min_samples=31)\n",
      "OPTICS(max_eps=300, min_samples=32)\n",
      "OPTICS(max_eps=300, min_samples=33)\n",
      "OPTICS(max_eps=300, min_samples=34)\n",
      "OPTICS(max_eps=300, min_samples=35)\n",
      "OPTICS(max_eps=300, min_samples=36)\n",
      "OPTICS(max_eps=300, min_samples=37)\n",
      "OPTICS(max_eps=300, min_samples=38)\n",
      "OPTICS(max_eps=300, min_samples=39)\n",
      "OPTICS(max_eps=300, min_samples=40)\n",
      "OPTICS(max_eps=300, min_samples=41)\n",
      "OPTICS(max_eps=300, min_samples=42)\n",
      "OPTICS(max_eps=300, min_samples=43)\n",
      "OPTICS(max_eps=300, min_samples=44)\n",
      "OPTICS(max_eps=300, min_samples=45)\n",
      "OPTICS(max_eps=300, min_samples=46)\n",
      "OPTICS(max_eps=300, min_samples=47)\n",
      "OPTICS(max_eps=300, min_samples=48)\n",
      "OPTICS(max_eps=300, min_samples=49)\n",
      "OPTICS(max_eps=300, min_samples=50)\n",
      "13\n",
      "optimal minpts value : 23\n",
      "optimal silhouette coefficient value : 0.2633723874269861\n"
     ]
    }
   ],
   "source": [
    "X = np.array(df[[\"Spending Score (1-100)\",\"Annual Income (k$)\",\"Gender\"]])\n",
    "\n",
    "for k in range(0,len(sil)):\n",
    "\n",
    "    clustering = OPTICS(min_samples=minpts[k],max_eps=maxeps[k]).fit(X)\n",
    "    print(clustering)\n",
    "    sil[k] = silhouette_score(X,clustering.labels_)\n",
    "\n",
    "  \n",
    "maximum = max(sil)\n",
    "index = sil.index(maximum)\n",
    "print(index)\n",
    "print(\"optimal minpts value :\",minpts[index])\n",
    "print(\"optimal silhouette coefficient value :\",sil[index])\n"
   ]
  },
  {
   "cell_type": "markdown",
   "id": "3b6001b9",
   "metadata": {
    "papermill": {
     "duration": 0.05598,
     "end_time": "2021-10-08T15:38:41.770672",
     "exception": false,
     "start_time": "2021-10-08T15:38:41.714692",
     "status": "completed"
    },
    "tags": []
   },
   "source": [
    "We tried again with : spending score, annual income, age. This one hasn't shown any improvement."
   ]
  },
  {
   "cell_type": "code",
   "execution_count": 11,
   "id": "62811498",
   "metadata": {
    "execution": {
     "iopub.execute_input": "2021-10-08T15:38:41.841947Z",
     "iopub.status.busy": "2021-10-08T15:38:41.841262Z",
     "iopub.status.idle": "2021-10-08T15:38:48.486708Z",
     "shell.execute_reply": "2021-10-08T15:38:48.485504Z",
     "shell.execute_reply.started": "2021-10-08T14:33:43.099326Z"
    },
    "papermill": {
     "duration": 6.685134,
     "end_time": "2021-10-08T15:38:48.486997",
     "exception": false,
     "start_time": "2021-10-08T15:38:41.801863",
     "status": "completed"
    },
    "tags": []
   },
   "outputs": [
    {
     "name": "stdout",
     "output_type": "stream",
     "text": [
      "OPTICS(max_eps=300, min_samples=10)\n",
      "OPTICS(max_eps=300, min_samples=11)\n",
      "OPTICS(max_eps=300, min_samples=12)\n",
      "OPTICS(max_eps=300, min_samples=13)\n",
      "OPTICS(max_eps=300, min_samples=14)\n",
      "OPTICS(max_eps=300, min_samples=15)\n",
      "OPTICS(max_eps=300, min_samples=16)\n",
      "OPTICS(max_eps=300, min_samples=17)\n",
      "OPTICS(max_eps=300, min_samples=18)\n",
      "OPTICS(max_eps=300, min_samples=19)\n",
      "OPTICS(max_eps=300, min_samples=20)\n",
      "OPTICS(max_eps=300, min_samples=21)\n",
      "OPTICS(max_eps=300, min_samples=22)\n",
      "OPTICS(max_eps=300, min_samples=23)\n",
      "OPTICS(max_eps=300, min_samples=24)\n",
      "OPTICS(max_eps=300, min_samples=25)\n",
      "OPTICS(max_eps=300, min_samples=26)\n",
      "OPTICS(max_eps=300, min_samples=28)\n",
      "OPTICS(max_eps=300, min_samples=29)\n",
      "OPTICS(max_eps=300, min_samples=30)\n",
      "OPTICS(max_eps=300, min_samples=32)\n",
      "OPTICS(max_eps=300, min_samples=33)\n",
      "OPTICS(max_eps=300, min_samples=34)\n",
      "OPTICS(max_eps=300, min_samples=35)\n",
      "OPTICS(max_eps=300, min_samples=36)\n",
      "OPTICS(max_eps=300, min_samples=37)\n",
      "OPTICS(max_eps=300, min_samples=38)\n",
      "OPTICS(max_eps=300, min_samples=39)\n",
      "OPTICS(max_eps=300, min_samples=42)\n",
      "OPTICS(max_eps=300, min_samples=43)\n",
      "OPTICS(max_eps=300, min_samples=44)\n",
      "OPTICS(max_eps=300, min_samples=45)\n",
      "OPTICS(max_eps=300, min_samples=46)\n",
      "OPTICS(max_eps=300, min_samples=47)\n",
      "OPTICS(max_eps=300, min_samples=49)\n",
      "OPTICS(max_eps=300, min_samples=50)\n",
      "18\n",
      "optimal minpts value : 28\n",
      "optimal silhouette coefficient value 0.21622874497996958\n"
     ]
    }
   ],
   "source": [
    "X = np.array(df[[\"Spending Score (1-100)\",\"Annual Income (k$)\",\"Age\"]])\n",
    "for k in range(0,len(sil)):\n",
    "    if k == 17 or k == 21 or k == 30 or k == 31 or k == 38:\n",
    "        continue\n",
    "    clustering = OPTICS(min_samples=minpts[k],max_eps=maxeps[k]).fit(X)\n",
    "    print(clustering)\n",
    "    sil[k] = silhouette_score(X,clustering.labels_)\n",
    "\n",
    "  \n",
    "maximum = max(sil)\n",
    "index = sil.index(maximum)\n",
    "print(index)\n",
    "print(\"optimal minpts value :\",minpts[index])\n",
    "print(\"optimal silhouette coefficient value\",sil[index])"
   ]
  },
  {
   "cell_type": "markdown",
   "id": "3237485f",
   "metadata": {
    "papermill": {
     "duration": 0.052822,
     "end_time": "2021-10-08T15:38:48.610648",
     "exception": false,
     "start_time": "2021-10-08T15:38:48.557826",
     "status": "completed"
    },
    "tags": []
   },
   "source": [
    "Next we move forward with the feature that gave the highest silhouette coefficient"
   ]
  },
  {
   "cell_type": "code",
   "execution_count": 12,
   "id": "06145873",
   "metadata": {
    "execution": {
     "iopub.execute_input": "2021-10-08T15:38:48.688691Z",
     "iopub.status.busy": "2021-10-08T15:38:48.688059Z",
     "iopub.status.idle": "2021-10-08T15:38:48.862261Z",
     "shell.execute_reply": "2021-10-08T15:38:48.862958Z",
     "shell.execute_reply.started": "2021-10-08T14:35:12.922086Z"
    },
    "papermill": {
     "duration": 0.217662,
     "end_time": "2021-10-08T15:38:48.863191",
     "exception": false,
     "start_time": "2021-10-08T15:38:48.645529",
     "status": "completed"
    },
    "tags": []
   },
   "outputs": [
    {
     "name": "stdout",
     "output_type": "stream",
     "text": [
      "[-1, -1, -1, -1, -1, -1, -1, -1, -1, -1, -1, -1, -1, -1, -1, -1, -1, -1, -1, -1, -1, -1, -1, -1, -1, -1, -1, 0, -1, -1, -1, -1, -1, -1, -1, -1, -1, -1, -1, -1, -1, -1, -1, 0, -1, 0, 0, 0, 0, 0, 0, 0, 0, 0, 0, 0, 0, 0, 0, 0, 0, 0, 0, 0, 0, 0, 0, 0, 0, 0, 0, 0, 0, 0, 0, 0, 0, 0, 0, 0, 0, 0, 0, 0, 0, 0, 0, 0, 0, 0, 0, 0, 0, 0, 0, 0, 0, 0, 0, 0, 0, 0, 0, 0, 0, 0, 0, 0, 0, 0, 0, 0, 0, 0, 0, 0, 0, 0, 0, 0, 0, 0, 0, 1, 0, -1, 0, 1, -1, -1, -1, -1, 0, 0, -1, 1, -1, -1, -1, -1, -1, 1, 0, 1, -1, 1, 0, 1, -1, 1, -1, 1, -1, 1, -1, 1, -1, 1, -1, 1, 0, 1, -1, 1, -1, 1, -1, 1, -1, 1, -1, 1, -1, 1, -1, 1, -1, 1, -1, 1, 1, 1, -1, 1, -1, 1, -1, 1, -1, 1, -1, 1, -1, -1, -1, -1, -1, -1, -1, -1]\n",
      "cluster number 3\n",
      "outliers : 83\n",
      "cluster 0  :  87\n",
      "cluster 1  :  30\n"
     ]
    }
   ],
   "source": [
    "X = np.array(df[[\"Spending Score (1-100)\",\"Annual Income (k$)\",\"Gender\"]])\n",
    "clustering = OPTICS(min_samples=minpts[13],max_eps=maxeps[31]).fit(X)\n",
    "cluster = list(clustering.labels_)\n",
    "print(cluster)\n",
    "\n",
    "values, counts = np.unique(cluster, return_counts=True)\n",
    "print(\"cluster number\",len(values))\n",
    "\n",
    "for x in range(0,len(values)):\n",
    "    if values[x] == -1:\n",
    "        print(\"outliers :\",counts[x])\n",
    "    else :\n",
    "        print(\"cluster\",values[x],\" : \",counts[x])\n",
    "df['class'] = cluster\n"
   ]
  },
  {
   "cell_type": "markdown",
   "id": "aa6a75a4",
   "metadata": {
    "papermill": {
     "duration": 0.03525,
     "end_time": "2021-10-08T15:38:48.935043",
     "exception": false,
     "start_time": "2021-10-08T15:38:48.899793",
     "status": "completed"
    },
    "tags": []
   },
   "source": [
    "We notice that we got 2 clusters green and blue colors while the red points are considered noise by the algorithm. They are not surrounded by enough point in their neighborhood to be considered clusters. They don’t belong either to any border of any core point.\n",
    "It would be interesting to focus on the clients that have an annual income between 40 and 80 ( green cluster ). This cluster is very dense, therefore it would would be good to focus on\n",
    "retaining those clients. They also have an interesting spending score\n",
    "between 40 and 60.\n"
   ]
  },
  {
   "cell_type": "code",
   "execution_count": 13,
   "id": "209a2ef4",
   "metadata": {
    "execution": {
     "iopub.execute_input": "2021-10-08T15:38:49.015656Z",
     "iopub.status.busy": "2021-10-08T15:38:49.014693Z",
     "iopub.status.idle": "2021-10-08T15:38:51.805251Z",
     "shell.execute_reply": "2021-10-08T15:38:51.804624Z",
     "shell.execute_reply.started": "2021-10-08T14:35:23.162689Z"
    },
    "papermill": {
     "duration": 2.834556,
     "end_time": "2021-10-08T15:38:51.805420",
     "exception": false,
     "start_time": "2021-10-08T15:38:48.970864",
     "status": "completed"
    },
    "tags": []
   },
   "outputs": [
    {
     "data": {
      "text/plain": [
       "Text(0, 0.5, 'Spending Score')"
      ]
     },
     "execution_count": 13,
     "metadata": {},
     "output_type": "execute_result"
    },
    {
     "data": {
      "image/png": "[encoded data removed]",
      "text/plain": [
       "<Figure size 432x288 with 1 Axes>"
      ]
     },
     "metadata": {},
     "output_type": "display_data"
    }
   ],
   "source": [
    "colors = {-1:'r', 0:'g',1:'b',2:'#1f77b4',3:'#1f90b1',4:'#1f50b1',5:'#1f60b1'}\n",
    "# create a figure and axis\n",
    "fig, ax = plt.subplots()\n",
    "# plot each data-point\n",
    "for i in range(len(df['class'])):\n",
    "   \n",
    "  ax.scatter(df['Annual Income (k$)'][i],df['Spending Score (1-100)'][i],color=colors[df[\"class\"][i]])\n",
    "# if minmax_df['class'][i] == -1:\n",
    " #    class1 = class1 + 1\n",
    "# else:\n",
    " #    class0 = class0 + 1 \n",
    "# set a title and labels\n",
    "ax.set_title('Mall costumer dataset')\n",
    "ax.set_xlabel('Annual Income')\n",
    "ax.set_ylabel('Spending Score')\n",
    "#print(\"class 1 : \",class1,\"\\n\")\n",
    "#print(\"class 0 : \",class0,\"\\n\")\n"
   ]
  },
  {
   "cell_type": "markdown",
   "id": "04be1793",
   "metadata": {
    "papermill": {
     "duration": 0.036201,
     "end_time": "2021-10-08T15:38:51.879157",
     "exception": false,
     "start_time": "2021-10-08T15:38:51.842956",
     "status": "completed"
    },
    "tags": []
   },
   "source": [
    "Next, we try out with other combinations of features"
   ]
  },
  {
   "cell_type": "code",
   "execution_count": 14,
   "id": "186d97ba",
   "metadata": {
    "execution": {
     "iopub.execute_input": "2021-10-08T15:38:51.962801Z",
     "iopub.status.busy": "2021-10-08T15:38:51.962111Z",
     "iopub.status.idle": "2021-10-08T15:38:59.160107Z",
     "shell.execute_reply": "2021-10-08T15:38:59.160601Z",
     "shell.execute_reply.started": "2021-10-08T14:45:28.319693Z"
    },
    "papermill": {
     "duration": 7.245296,
     "end_time": "2021-10-08T15:38:59.160773",
     "exception": false,
     "start_time": "2021-10-08T15:38:51.915477",
     "status": "completed"
    },
    "tags": []
   },
   "outputs": [
    {
     "name": "stdout",
     "output_type": "stream",
     "text": [
      "27\n",
      "optimal minpts value : 37\n",
      "optimal silhouette coefficient value : 0.42107046296313655\n"
     ]
    }
   ],
   "source": [
    "X = np.array(df[[\"Annual Income (k$)\",\"Gender\"]])\n",
    "\n",
    "for k in range(0,len(sil)):\n",
    "    \n",
    "    clustering = OPTICS(min_samples=minpts[k],max_eps=maxeps[k]).fit(X)\n",
    "    cluster = list(clustering.labels_)   \n",
    "    if len(np.unique(cluster)) == 1:\n",
    "         \n",
    "            continue   \n",
    "       \n",
    "    sil[k] = silhouette_score(X,clustering.labels_)\n",
    "\n",
    "\n",
    "  \n",
    "maximum = max(sil)\n",
    "index = sil.index(maximum)\n",
    "print(index)\n",
    "print(\"optimal minpts value :\",minpts[index])\n",
    "print(\"optimal silhouette coefficient value :\",sil[index])\n"
   ]
  },
  {
   "cell_type": "code",
   "execution_count": 15,
   "id": "3742769e",
   "metadata": {
    "execution": {
     "iopub.execute_input": "2021-10-08T15:38:59.242424Z",
     "iopub.status.busy": "2021-10-08T15:38:59.241447Z",
     "iopub.status.idle": "2021-10-08T15:38:59.385663Z",
     "shell.execute_reply": "2021-10-08T15:38:59.385127Z",
     "shell.execute_reply.started": "2021-10-08T14:45:42.741864Z"
    },
    "papermill": {
     "duration": 0.188359,
     "end_time": "2021-10-08T15:38:59.385803",
     "exception": false,
     "start_time": "2021-10-08T15:38:59.197444",
     "status": "completed"
    },
    "tags": []
   },
   "outputs": [
    {
     "name": "stdout",
     "output_type": "stream",
     "text": [
      "[-1, -1, -1, -1, 0, 0, 0, 0, 0, 0, 0, 0, 0, 0, 0, 0, 0, 0, 0, 0, 0, 0, 0, 0, 0, 0, 0, 0, 0, 0, 0, 0, -1, -1, -1, -1, 1, 1, 1, 1, 1, 1, 1, 1, 1, 1, 1, 1, 1, 1, 1, 1, 1, 1, 1, 1, 1, 1, 1, 1, 1, 1, 1, 1, 1, 1, 1, 1, 1, 1, 1, 1, 1, 1, 1, 1, 1, 1, 1, 1, 1, 1, 1, 1, 1, 1, 2, 2, 2, 2, 2, 2, 2, 2, 2, 2, 2, 2, 2, 2, 2, 2, 2, 2, 2, 2, 2, 2, 2, 2, 2, 2, 2, 2, 2, 2, 2, 2, 2, 2, 2, 2, -1, -1, -1, -1, -1, -1, -1, -1, -1, -1, -1, -1, -1, -1, -1, -1, -1, -1, 3, 3, 3, 3, 3, 3, 3, 3, 3, 3, 3, 3, 3, 3, 3, 3, 3, 3, 3, 3, 3, 3, 3, 3, 3, -1, -1, -1, -1, -1, -1, -1, -1, -1, -1, -1, -1, -1, -1, -1, -1, -1, -1, -1, -1, -1, -1, -1, -1, -1, -1, -1, -1, -1, -1, -1, -1, -1, -1, -1]\n",
      "cluster number 5\n",
      "outliers : 61\n",
      "cluster 0  :  28\n",
      "cluster 1  :  50\n",
      "cluster 2  :  36\n",
      "cluster 3  :  25\n"
     ]
    }
   ],
   "source": [
    "clustering = OPTICS(min_samples=minpts[13],max_eps=maxeps[31]).fit(X)\n",
    "cluster = list(clustering.labels_)\n",
    "print(cluster)\n",
    "\n",
    "values, counts = np.unique(cluster, return_counts=True)\n",
    "print(\"cluster number\",len(values))\n",
    "\n",
    "for x in range(0,len(values)):\n",
    "    if values[x] == -1:\n",
    "        print(\"outliers :\",counts[x])\n",
    "    else :\n",
    "        print(\"cluster\",values[x],\" : \",counts[x])\n",
    "        \n",
    "df['class'] = cluster"
   ]
  },
  {
   "cell_type": "markdown",
   "id": "1e429529",
   "metadata": {
    "papermill": {
     "duration": 0.036679,
     "end_time": "2021-10-08T15:38:59.459781",
     "exception": false,
     "start_time": "2021-10-08T15:38:59.423102",
     "status": "completed"
    },
    "tags": []
   },
   "source": [
    "This version gives us a couple clusters by ranges of Annual Income (the green cluster whose customers Spending Score is approximately equally distributed from 1 - 100) the two other clusters has their Spending score centered around 50)"
   ]
  },
  {
   "cell_type": "code",
   "execution_count": 16,
   "id": "ab0efc20",
   "metadata": {
    "execution": {
     "iopub.execute_input": "2021-10-08T15:38:59.564155Z",
     "iopub.status.busy": "2021-10-08T15:38:59.561522Z",
     "iopub.status.idle": "2021-10-08T15:39:02.389414Z",
     "shell.execute_reply": "2021-10-08T15:39:02.389856Z",
     "shell.execute_reply.started": "2021-10-08T14:55:06.818102Z"
    },
    "papermill": {
     "duration": 2.892973,
     "end_time": "2021-10-08T15:39:02.390061",
     "exception": false,
     "start_time": "2021-10-08T15:38:59.497088",
     "status": "completed"
    },
    "tags": []
   },
   "outputs": [
    {
     "data": {
      "text/plain": [
       "Text(0, 0.5, 'Spending Score (1-100)')"
      ]
     },
     "execution_count": 16,
     "metadata": {},
     "output_type": "execute_result"
    },
    {
     "data": {
      "image/png": "[encoded data removed]",
      "text/plain": [
       "<Figure size 432x288 with 1 Axes>"
      ]
     },
     "metadata": {},
     "output_type": "display_data"
    }
   ],
   "source": [
    "fig,bx = plt.subplots()\n",
    "\n",
    "for i in range(len(df['class'])):\n",
    " bx.scatter(df['Annual Income (k$)'][i], df['Spending Score (1-100)'][i],color=colors[df['class'][i]])\n",
    "\n",
    "\n",
    "bx.set_title('Mall costumer dataset')\n",
    "bx.set_xlabel('Annual Income (k$)')\n",
    "bx.set_ylabel('Spending Score (1-100)')"
   ]
  },
  {
   "cell_type": "markdown",
   "id": "9407aa54",
   "metadata": {
    "papermill": {
     "duration": 0.040019,
     "end_time": "2021-10-08T15:39:02.470024",
     "exception": false,
     "start_time": "2021-10-08T15:39:02.430005",
     "status": "completed"
    },
    "tags": []
   },
   "source": [
    "Next, we try running the algorithm using the two feature Spending Score and age."
   ]
  },
  {
   "cell_type": "code",
   "execution_count": 17,
   "id": "73f14818",
   "metadata": {
    "execution": {
     "iopub.execute_input": "2021-10-08T15:39:02.556378Z",
     "iopub.status.busy": "2021-10-08T15:39:02.550373Z",
     "iopub.status.idle": "2021-10-08T15:39:09.802831Z",
     "shell.execute_reply": "2021-10-08T15:39:09.803269Z",
     "shell.execute_reply.started": "2021-10-08T14:12:16.769729Z"
    },
    "papermill": {
     "duration": 7.294412,
     "end_time": "2021-10-08T15:39:09.803499",
     "exception": false,
     "start_time": "2021-10-08T15:39:02.509087",
     "status": "completed"
    },
    "tags": []
   },
   "outputs": [
    {
     "name": "stdout",
     "output_type": "stream",
     "text": [
      "17\n",
      "optimal minpts value : 27\n",
      "optimal silhouette coefficient : 0.46288486847296384\n"
     ]
    }
   ],
   "source": [
    "X = np.array(df[[\"Spending Score (1-100)\",\"Age\"]])\n",
    "\n",
    "for k in range(0,len(sil)):\n",
    "\n",
    "    clustering = OPTICS(min_samples=minpts[k],max_eps=maxeps[k]).fit(X)\n",
    "    cluster = list(clustering.labels_) \n",
    "    if len(np.unique(cluster)) == 1:\n",
    "        \n",
    "        continue \n",
    "             \n",
    "    sil[k] = silhouette_score(X,clustering.labels_)\n",
    "    \n",
    "maximum = max(sil)\n",
    "index = sil.index(maximum)\n",
    "print(index)\n",
    "print(\"optimal minpts value :\",minpts[index])\n",
    "print(\"optimal silhouette coefficient :\",sil[index])"
   ]
  },
  {
   "cell_type": "code",
   "execution_count": 18,
   "id": "25db6914",
   "metadata": {
    "execution": {
     "iopub.execute_input": "2021-10-08T15:39:09.938719Z",
     "iopub.status.busy": "2021-10-08T15:39:09.937823Z",
     "iopub.status.idle": "2021-10-08T15:39:10.078057Z",
     "shell.execute_reply": "2021-10-08T15:39:10.078809Z",
     "shell.execute_reply.started": "2021-10-08T14:12:31.787597Z"
    },
    "papermill": {
     "duration": 0.20914,
     "end_time": "2021-10-08T15:39:10.079043",
     "exception": false,
     "start_time": "2021-10-08T15:39:09.869903",
     "status": "completed"
    },
    "tags": []
   },
   "outputs": [
    {
     "name": "stdout",
     "output_type": "stream",
     "text": [
      "[-1, 0, -1, 0, -1, 0, -1, 0, -1, 0, -1, 0, -1, 0, -1, 0, -1, 0, -1, 0, -1, 0, -1, 0, -1, 0, -1, -1, -1, 0, -1, 0, -1, 0, -1, 0, -1, 0, -1, 0, -1, 0, -1, -1, -1, 0, -1, -1, -1, -1, -1, -1, -1, -1, -1, -1, -1, -1, -1, -1, -1, -1, -1, -1, -1, 0, -1, -1, -1, -1, -1, -1, -1, -1, -1, -1, -1, -1, -1, -1, -1, -1, -1, -1, -1, -1, -1, -1, -1, -1, -1, -1, -1, -1, -1, -1, -1, -1, -1, -1, -1, -1, -1, -1, -1, -1, -1, -1, -1, -1, -1, -1, -1, -1, -1, -1, -1, -1, -1, -1, -1, -1, -1, 0, -1, 0, -1, 0, -1, 0, -1, 0, -1, 0, -1, 0, -1, 0, -1, 0, -1, 0, -1, 0, -1, 0, -1, 0, -1, 0, -1, 0, -1, 0, -1, 0, -1, 0, -1, 0, -1, 0, -1, 0, -1, 0, -1, 0, -1, 0, -1, 0, -1, 0, -1, 0, -1, 0, -1, 0, -1, 0, -1, 0, -1, 0, -1, 0, -1, 0, -1, 0, -1, 0, -1, 0, -1, 0, -1, 0]\n",
      "cluster number 2\n",
      "outliers : 139\n",
      "cluster 0  :  61\n"
     ]
    }
   ],
   "source": [
    "clustering = OPTICS(min_samples=minpts[17],max_eps=maxeps[17]).fit(X)\n",
    "cluster = list(clustering.labels_)\n",
    "print(cluster)\n",
    "\n",
    "values, counts = np.unique(cluster, return_counts=True)\n",
    "print(\"cluster number\",len(values))\n",
    "\n",
    "for x in range(0,len(values)):\n",
    "    if values[x] == -1:\n",
    "        print(\"outliers :\",counts[x])\n",
    "    else :\n",
    "        print(\"cluster\",values[x],\" : \",counts[x])\n",
    "        \n",
    "df['class'] = cluster"
   ]
  },
  {
   "cell_type": "markdown",
   "id": "ea3bdb24",
   "metadata": {
    "papermill": {
     "duration": 0.038486,
     "end_time": "2021-10-08T15:39:10.157579",
     "exception": false,
     "start_time": "2021-10-08T15:39:10.119093",
     "status": "completed"
    },
    "tags": []
   },
   "source": [
    "The cluster 0 is green colored while the red colored points are considered\n",
    "noise by the algorithm. This clustering recommands to focus on the green cluster. the\n",
    "annual income of that green population lies within the interval [42,102] which seems to   rather interesting interval. This cluster of individuals contains clients whose spending score    variance is very high as you see the large spread of spending score values of the green cluster. Let’s apply again this procedure to the feature “Age” and “Spending Score”\n",
    "The silhouette coefficient for this configuration is 0.46. This means that the green cluster   is the most import segment to focus on because it’s dense with young clients with very high Spending Score. The marketing team should prioritize the conservation of this segment (people whose age lies from 20 to 42) \n"
   ]
  },
  {
   "cell_type": "code",
   "execution_count": 19,
   "id": "5d2ae1d2",
   "metadata": {
    "execution": {
     "iopub.execute_input": "2021-10-08T15:39:10.273159Z",
     "iopub.status.busy": "2021-10-08T15:39:10.264945Z",
     "iopub.status.idle": "2021-10-08T15:39:13.222519Z",
     "shell.execute_reply": "2021-10-08T15:39:13.221604Z",
     "shell.execute_reply.started": "2021-10-08T14:12:38.76407Z"
    },
    "papermill": {
     "duration": 3.026476,
     "end_time": "2021-10-08T15:39:13.222697",
     "exception": false,
     "start_time": "2021-10-08T15:39:10.196221",
     "status": "completed"
    },
    "tags": []
   },
   "outputs": [
    {
     "data": {
      "text/plain": [
       "Text(0, 0.5, 'Spending score')"
      ]
     },
     "execution_count": 19,
     "metadata": {},
     "output_type": "execute_result"
    },
    {
     "data": {
      "image/png": "[encoded data removed]",
      "text/plain": [
       "<Figure size 432x288 with 1 Axes>"
      ]
     },
     "metadata": {},
     "output_type": "display_data"
    }
   ],
   "source": [
    "fig,px = plt.subplots()\n",
    "\n",
    "for i in range(len(df['class'])):\n",
    " px.scatter(df['Age'][i], df['Spending Score (1-100)'][i],color=colors[df['class'][i]])\n",
    "\n",
    "\n",
    "px.set_title('Mall costumer dataset')\n",
    "px.set_xlabel('Age')\n",
    "px.set_ylabel('Spending score')"
   ]
  }
 ],
 "metadata": {
  "kernelspec": {
   "display_name": "Python 3",
   "language": "python",
   "name": "python3"
  },
  "language_info": {
   "codemirror_mode": {
    "name": "ipython",
    "version": 3
   },
   "file_extension": ".py",
   "mimetype": "text/x-python",
   "name": "python",
   "nbconvert_exporter": "python",
   "pygments_lexer": "ipython3",
   "version": "3.7.10"
  },
  "papermill": {
   "default_parameters": {},
   "duration": 56.766877,
   "end_time": "2021-10-08T15:39:13.974854",
   "environment_variables": {},
   "exception": null,
   "input_path": "__notebook__.ipynb",
   "output_path": "__notebook__.ipynb",
   "parameters": {},
   "start_time": "2021-10-08T15:38:17.207977",
   "version": "2.3.3"
  }
 },
 "nbformat": 4,
 "nbformat_minor": 5
}
